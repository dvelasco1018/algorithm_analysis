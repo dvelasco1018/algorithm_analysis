{
 "cells": [
  {
   "cell_type": "markdown",
   "metadata": {},
   "source": [
    "<h1> Multiplicación de Matrices </h1>"
   ]
  },
  {
   "cell_type": "code",
   "execution_count": 3,
   "metadata": {
    "collapsed": true
   },
   "outputs": [],
   "source": [
    "import math\n",
    "import numpy as np\n",
    "import pylab as pl\n",
    "%matplotlib inline"
   ]
  },
  {
   "cell_type": "code",
   "execution_count": 4,
   "metadata": {
    "collapsed": false
   },
   "outputs": [
    {
     "name": "stdout",
     "output_type": "stream",
     "text": [
      "[[79  7 80 89 87 59 24 68 34 85]\n",
      " [ 7 12 21 61 80 60 80 54 31 65]\n",
      " [80 40 84 59 48  3 24 59 64 52]\n",
      " [11 18 99 10 13 63  6 84 24 33]\n",
      " [83  8 62 52 22 13  4 21 80 93]\n",
      " [70 14 93 12 63 71 36 66 55 34]\n",
      " [23 50 24 81 34 44 74 25 52 15]\n",
      " [80 63 91 45 92 17 17 81 97 91]\n",
      " [41 62  2 47 20 15 45 74 96 87]\n",
      " [87 47 93 62 15 40 28 32 72 28]]\n"
     ]
    }
   ],
   "source": [
    "x = 10\n",
    "matriz1 = np.random.randint(2,100,(x,x))\n",
    "matriz2 = np.random.randint(2,100,(x,x))\n",
    "print matriz1"
   ]
  },
  {
   "cell_type": "markdown",
   "metadata": {},
   "source": [
    "<h2> Primera multiplicación c_{ij} = \\sum_{k=1}^n a_{ik}*b_{kj} </h2>"
   ]
  },
  {
   "cell_type": "code",
   "execution_count": 5,
   "metadata": {
    "collapsed": false
   },
   "outputs": [],
   "source": [
    "def mult1(mat1,mat2, x):\n",
    "    mat3 = np.zeros((x,x))\n",
    "    for i in range(x):\n",
    "        for j in range(x):\n",
    "            for k in range(x):\n",
    "                mat3[i][j] = mat3[i][j] + (mat1[i][k]*mat2[k][j])\n",
    "    return mat3"
   ]
  },
  {
   "cell_type": "code",
   "execution_count": 6,
   "metadata": {
    "collapsed": false
   },
   "outputs": [
    {
     "data": {
      "text/plain": [
       "array([[  729.,   603.,  1044.],\n",
       "       [ 2199.,  1827.,  1796.],\n",
       "       [ 1365.,  1788.,  1843.]])"
      ]
     },
     "execution_count": 6,
     "metadata": {},
     "output_type": "execute_result"
    }
   ],
   "source": [
    "x = 3\n",
    "matriz1 = np.random.randint(0,50,(x,x))\n",
    "matriz2 = np.random.randint(0,50,(x,x))\n",
    "mult1(matriz1,matriz2,x)"
   ]
  },
  {
   "cell_type": "code",
   "execution_count": 7,
   "metadata": {
    "collapsed": true
   },
   "outputs": [],
   "source": [
    "class Counter:\n",
    "    '''\n",
    "    Class Counter\n",
    "    Implements a step counter, which is used to compute the number of basic operations performed in\n",
    "    a particular call to a function.\n",
    "    '''\n",
    "    def __init__(self):\n",
    "        self.steps = 0\n",
    "\n",
    "    def reset(self):\n",
    "        self.steps = 0\n",
    "\n",
    "    def count(self):\n",
    "        self.steps += 1\n",
    "\n",
    "    def print_steps(self):\n",
    "        print \"Number of steps =\", self.steps\n",
    "        \n",
    "def cont_mult1(mat1,mat2, x,acct):\n",
    "    mat3 = np.zeros((x,x))\n",
    "    acct.count()\n",
    "    for i in range(x):\n",
    "        acct.count()\n",
    "        for j in range(x):\n",
    "            acct.count()\n",
    "            for k in range(x):\n",
    "                acct.count()\n",
    "                mat3[i][j] = mat3[i][j] + (mat1[i][k]*mat2[k][j]);acct.count();acct.count()\n",
    "    return mat3"
   ]
  },
  {
   "cell_type": "code",
   "execution_count": 32,
   "metadata": {
    "collapsed": false
   },
   "outputs": [
    {
     "name": "stdout",
     "output_type": "stream",
     "text": [
      "Number of steps = 24040201\n"
     ]
    }
   ],
   "source": [
    "x = 200\n",
    "matriz1 = np.random.randint(0,50,(x,x))\n",
    "matriz2 = np.random.randint(0,50,(x,x))\n",
    "acct = Counter()\n",
    "cont_mult1(matriz1,matriz2,x,acct)\n",
    "acct.print_steps()"
   ]
  },
  {
   "cell_type": "code",
   "execution_count": 9,
   "metadata": {
    "collapsed": true
   },
   "outputs": [],
   "source": [
    "def exper_analysis(n):\n",
    "    results = []\n",
    "    acct = Counter()\n",
    "    for i in range(n):\n",
    "        matriz1 = np.random.randint(0,50,(i,i))\n",
    "        matriz2 = np.random.randint(0,50,(i,i))\n",
    "        acct.reset()\n",
    "        cont_mult1(matriz1,matriz2,i,acct)\n",
    "        results.append(acct.steps)\n",
    "    print results\n",
    "    return results"
   ]
  },
  {
   "cell_type": "code",
   "execution_count": 10,
   "metadata": {
    "collapsed": false
   },
   "outputs": [
    {
     "name": "stdout",
     "output_type": "stream",
     "text": [
      "[1, 6, 31, 94, 213, 406, 691, 1086, 1609, 2278, 3111, 4126, 5341, 6774, 8443]\n",
      "[1, 6, 31, 94, 213, 406, 691, 1086, 1609, 2278, 3111, 4126, 5341, 6774, 8443]\n"
     ]
    }
   ],
   "source": [
    "print exper_analysis(15)"
   ]
  },
  {
   "cell_type": "code",
   "execution_count": 11,
   "metadata": {
    "collapsed": false
   },
   "outputs": [
    {
     "name": "stdout",
     "output_type": "stream",
     "text": [
      "[1, 6, 31, 94, 213, 406, 691, 1086, 1609, 2278, 3111, 4126, 5341, 6774, 8443, 10366, 12561, 15046, 17839, 20958, 24421, 28246, 32451, 37054, 42073, 47526, 53431, 59806, 66669, 74038]\n"
     ]
    },
    {
     "data": {
      "text/plain": [
       "[<matplotlib.lines.Line2D at 0x80572e8>]"
      ]
     },
     "execution_count": 11,
     "metadata": {},
     "output_type": "execute_result"
    },
    {
     "data": {
      "image/png": "[encoded data removed]",
      "text/plain": [
       "<matplotlib.figure.Figure at 0x8062f98>"
      ]
     },
     "metadata": {},
     "output_type": "display_data"
    }
   ],
   "source": [
    "pl.clf()\n",
    "x = np.arange(30)\n",
    "y = np.array(exper_analysis(30))\n",
    "pl.plot(x, y, 'k.')"
   ]
  },
  {
   "cell_type": "markdown",
   "metadata": {},
   "source": [
    "<h2>Dividir y Conquistar</h2>"
   ]
  },
  {
   "cell_type": "code",
   "execution_count": 12,
   "metadata": {
    "collapsed": true
   },
   "outputs": [],
   "source": [
    "def suma(matA,matB):\n",
    "    x = len(matA)\n",
    "    matC = np.zeros((x,x))\n",
    "    for i in range(x):\n",
    "        for j in range(x):\n",
    "            matC[i][j] = matA[i][j] + matB[i][j]\n",
    "    return matC\n",
    "            "
   ]
  },
  {
   "cell_type": "code",
   "execution_count": 13,
   "metadata": {
    "collapsed": false
   },
   "outputs": [],
   "source": [
    "def mult2(matrixA, matrixB):\n",
    "    bandera=0\n",
    "    if (len(matrixA) <= 2):\n",
    "         return mult1(matrixA,matrixB, len(matrixA))\n",
    "    else :\n",
    "        tama=len(matrixA)\n",
    "        if(tama%2!=0):\n",
    "            m = np.zeros((tama, 1))\n",
    "            n = np.zeros((1, tama+1))\n",
    "            matrixA = np.c_[matrixA,m]\n",
    "            matrixA = np.r_[matrixA,n]\n",
    "            matrixB = np.c_[matrixB,m]\n",
    "            matrixB = np.r_[matrixB,n]\n",
    "            tama=tama+1    \n",
    "            bandera=1 \n",
    "        tama= (tama)/2\n",
    "        a11=matrixA[:tama,:tama]\n",
    "        a12=matrixA[:tama,tama:]\n",
    "        a21=matrixA[tama:,:tama]\n",
    "        a22=matrixA[tama:,tama:]\n",
    "        b11=matrixB[:tama,:tama]\n",
    "        b12=matrixB[:tama,tama:]\n",
    "        b21=matrixB[tama:,:tama]\n",
    "        b22=matrixB[tama:,tama:]\n",
    "        \n",
    "    c11a = mult2(a11,b11)\n",
    "    c11b = mult2(a12,b21)\n",
    "    c12a = mult2(a11,b12)\n",
    "    c12b = mult2(a12,b22)\n",
    "    c21a = mult2(a21,b11)\n",
    "    c21b = mult2(a22,b21)\n",
    "    c22a = mult2(a21,b12)\n",
    "    c22b = mult2(a22,b22)\n",
    "\n",
    "    c11 = suma(c11a,c11b)\n",
    "    c12 = suma(c12a,c12b)\n",
    "    c21 = suma(c21a,c21b)\n",
    "    c22 = suma(c22a,c22b)\n",
    "\n",
    "    c11 = np.c_[c11,c12]\n",
    "    c21 = np.c_[c21,c22]\n",
    "    c11 = np.r_[c11,c21]\n",
    "    if bandera==1:\n",
    "        ta=len(c11)\n",
    "        c11 = c11[:ta-1,:ta-1]\n",
    "    return c11\n",
    "            \n"
   ]
  },
  {
   "cell_type": "code",
   "execution_count": 14,
   "metadata": {
    "collapsed": false
   },
   "outputs": [
    {
     "name": "stdout",
     "output_type": "stream",
     "text": [
      "[[ 1519.  3632.  2876.  2082.  3532.  2060.]\n",
      " [ 1016.  3110.  3005.  2609.  2350.  1555.]\n",
      " [ 3344.  6190.  4973.  2941.  5220.  3215.]\n",
      " [ 2409.  5137.  5066.  3074.  4100.  3072.]\n",
      " [ 2626.  5867.  4939.  3773.  5029.  3453.]\n",
      " [ 1154.  2705.  1891.  1135.  2493.  1312.]]\n"
     ]
    }
   ],
   "source": [
    "x = 6\n",
    "matriz1 = np.random.randint(0,50,(x,x))\n",
    "matriz2 = np.random.randint(0,50,(x,x))\n",
    "print mult2(matriz1,matriz2)"
   ]
  },
  {
   "cell_type": "code",
   "execution_count": 15,
   "metadata": {
    "collapsed": true
   },
   "outputs": [],
   "source": [
    "def cont_suma(matA,matB,acct):\n",
    "    x = len(matA);acct.count()\n",
    "    matC = np.zeros((x,x));acct.count()\n",
    "    for i in range(x):\n",
    "        acct.count()\n",
    "        for j in range(x):\n",
    "            acct.count()\n",
    "            matC[i][j] = matA[i][j] + matB[i][j];acct.count()\n",
    "    return matC"
   ]
  },
  {
   "cell_type": "code",
   "execution_count": 16,
   "metadata": {
    "collapsed": false
   },
   "outputs": [],
   "source": [
    "def cont_mult2(matrixA, matrixB,acct):\n",
    "    bandera=0;acct.count()\n",
    "    if (len(matrixA) <= 2):\n",
    "         return cont_mult1(matrixA,matrixB, len(matrixA),acct)\n",
    "    else :\n",
    "        acct.count()\n",
    "        tama=len(matrixA);acct.count()\n",
    "        if(tama%2!=0):\n",
    "            acct.count()\n",
    "            m = np.zeros((tama, 1));acct.count()\n",
    "            n = np.zeros((1, tama+1));acct.count()\n",
    "            matrixA = np.c_[matrixA,m];acct.count()\n",
    "            matrixA = np.r_[matrixA,n];acct.count()\n",
    "            matrixB = np.c_[matrixB,m];acct.count()\n",
    "            matrixB = np.r_[matrixB,n];acct.count()\n",
    "            tama=tama+1;acct.count()\n",
    "            bandera=1 ;acct.count()\n",
    "        tama= (tama)/2;acct.count()\n",
    "        a11=matrixA[:tama,:tama];acct.count()\n",
    "        a12=matrixA[:tama,tama:];acct.count()\n",
    "        a21=matrixA[tama:,:tama];acct.count()\n",
    "        a22=matrixA[tama:,tama:];acct.count()\n",
    "        b11=matrixB[:tama,:tama];acct.count()\n",
    "        b12=matrixB[:tama,tama:];acct.count()\n",
    "        b21=matrixB[tama:,:tama];acct.count()\n",
    "        b22=matrixB[tama:,tama:];acct.count()\n",
    "        \n",
    "    c11a = cont_mult2(a11,b11,acct);acct.count()\n",
    "    c11b = cont_mult2(a12,b21,acct);acct.count()\n",
    "    c12a = cont_mult2(a11,b12,acct);acct.count()\n",
    "    c12b = cont_mult2(a12,b22,acct);acct.count()\n",
    "    c21a = cont_mult2(a21,b11,acct);acct.count()\n",
    "    c21b = cont_mult2(a22,b21,acct);acct.count()\n",
    "    c22a = cont_mult2(a21,b12,acct);acct.count()\n",
    "    c22b = cont_mult2(a22,b22,acct);acct.count()\n",
    "\n",
    "    c11 = cont_suma(c11a,c11b,acct);acct.count()\n",
    "    c12 = cont_suma(c12a,c12b,acct);acct.count()\n",
    "    c21 = cont_suma(c21a,c21b,acct);acct.count()\n",
    "    c22 = cont_suma(c22a,c22b,acct);acct.count()\n",
    "\n",
    "    c11 = np.c_[c11,c12];acct.count()\n",
    "    c21 = np.c_[c21,c22];acct.count()\n",
    "    c11 = np.r_[c11,c21];acct.count()\n",
    "    if bandera==1:\n",
    "        acct.count()\n",
    "        ta=len(c11);acct.count()\n",
    "        c11 = c11[:ta-1,:ta-1];acct.count()\n",
    "    return c11"
   ]
  },
  {
   "cell_type": "code",
   "execution_count": 17,
   "metadata": {
    "collapsed": false
   },
   "outputs": [
    {
     "name": "stdout",
     "output_type": "stream",
     "text": [
      "Number of steps = 23207\n"
     ]
    }
   ],
   "source": [
    "x = 15\n",
    "matriz1 = np.random.randint(0,50,(x,x))\n",
    "matriz2 = np.random.randint(0,50,(x,x))\n",
    "acct = Counter()\n",
    "cont_mult2(matriz1,matriz2,acct)\n",
    "acct.print_steps()"
   ]
  },
  {
   "cell_type": "code",
   "execution_count": 18,
   "metadata": {
    "collapsed": true
   },
   "outputs": [],
   "source": [
    "def exper_analysis2(n):\n",
    "    results = []\n",
    "    acct = Counter()\n",
    "    for i in range(n):\n",
    "        matriz1 = np.random.randint(0,50,(i,i))\n",
    "        matriz2 = np.random.randint(0,50,(i,i))\n",
    "        acct.reset()\n",
    "        cont_mult2(matriz1,matriz2,acct)\n",
    "        results.append(acct.steps)\n",
    "    return results"
   ]
  },
  {
   "cell_type": "code",
   "execution_count": 19,
   "metadata": {
    "collapsed": false
   },
   "outputs": [
    {
     "name": "stdout",
     "output_type": "stream",
     "text": [
      "[2, 7, 32, 343, 331, 2875, 2863, 2839, 2827, 23267, 23255, 23263, 23251, 23179, 23167]\n"
     ]
    }
   ],
   "source": [
    "print exper_analysis2(15)"
   ]
  },
  {
   "cell_type": "code",
   "execution_count": 20,
   "metadata": {
    "collapsed": false
   },
   "outputs": [
    {
     "data": {
      "text/plain": [
       "[<matplotlib.lines.Line2D at 0x82619b0>]"
      ]
     },
     "execution_count": 20,
     "metadata": {},
     "output_type": "execute_result"
    },
    {
     "data": {
      "image/png": "[encoded data removed]",
      "text/plain": [
       "<matplotlib.figure.Figure at 0x7c3bd30>"
      ]
     },
     "metadata": {},
     "output_type": "display_data"
    }
   ],
   "source": [
    "pl.clf()\n",
    "x = np.arange(20)\n",
    "y = np.array(exper_analysis2(20))\n",
    "pl.plot(x, y, 'k.')"
   ]
  },
  {
   "cell_type": "markdown",
   "metadata": {},
   "source": [
    "<h2>Algorítmo de Strassen</h2>"
   ]
  },
  {
   "cell_type": "code",
   "execution_count": 21,
   "metadata": {
    "collapsed": true
   },
   "outputs": [],
   "source": [
    "def resta(matA,matB):\n",
    "    x = len(matA)\n",
    "    matC = np.zeros((x,x))\n",
    "    for i in range(x):\n",
    "        for j in range(x):\n",
    "            matC[i][j] = matA[i][j] - matB[i][j]\n",
    "    return matC\n",
    "\n",
    "def cont_resta(matA,matB,acct):\n",
    "    x = len(matA);acct.count()\n",
    "    matC = np.zeros((x,x));acct.count()\n",
    "    for i in range(x):\n",
    "        acct.count()\n",
    "        for j in range(x):\n",
    "            acct.count()\n",
    "            matC[i][j] = matA[i][j] - matB[i][j];acct.count()\n",
    "    return matC"
   ]
  },
  {
   "cell_type": "code",
   "execution_count": 22,
   "metadata": {
    "collapsed": true
   },
   "outputs": [],
   "source": [
    "def mult3(matrixA, matrixB):\n",
    "    bandera=0\n",
    "    if (len(matrixA) <= 2):\n",
    "         return mult1(matrixA,matrixB, len(matrixA))\n",
    "    else :\n",
    "        tama=len(matrixA)\n",
    "        if(tama%2!=0):\n",
    "            m = np.zeros((tama, 1))\n",
    "            n = np.zeros((1, tama+1))\n",
    "            matrixA = np.c_[matrixA,m]\n",
    "            matrixA = np.r_[matrixA,n]\n",
    "            matrixB = np.c_[matrixB,m]\n",
    "            matrixB = np.r_[matrixB,n]\n",
    "            tama=tama+1    \n",
    "            bandera=1 \n",
    "        tama= (tama)/2\n",
    "        a11=matrixA[:tama,:tama]\n",
    "        a12=matrixA[:tama,tama:]\n",
    "        a21=matrixA[tama:,:tama]\n",
    "        a22=matrixA[tama:,tama:]\n",
    "        b11=matrixB[:tama,:tama]\n",
    "        b12=matrixB[:tama,tama:]\n",
    "        b21=matrixB[tama:,:tama]\n",
    "        b22=matrixB[tama:,tama:]\n",
    "        \n",
    "    m1a = suma(a11,a22)\n",
    "    m1b = suma(b11,b22)\n",
    "    m1  = mult3(m1a,m1b)\n",
    "    m2a = suma(a21,a22)\n",
    "    m2  = mult3(m2a,b11)\n",
    "    m3a = resta(b12,b22)\n",
    "    m3  = mult3(a11,m3a)\n",
    "    m4a = resta(b21,b11)\n",
    "    m4  = mult3(a22,m4a)\n",
    "    m5a = suma(a11,a12)\n",
    "    m5 = mult3(m5a,b22)\n",
    "    m6a = resta(a21,a11)\n",
    "    m6b = suma(b11,b12)\n",
    "    m6 = mult3(m6a,m6b)\n",
    "    m7a = resta(a12,a22)\n",
    "    m7b = suma(b21,b22)\n",
    "    m7 = mult3(m7a,m7b)\n",
    "\n",
    "    c11 = suma(m1,m4)\n",
    "    c11 = resta(c11,m5)\n",
    "    c11 = suma(c11,m7)\n",
    "    c12 = suma(m3,m5)\n",
    "    c21 = suma(m2,m4)\n",
    "    c22 = resta(m1,m2)\n",
    "    c22 = suma(c22,m3)\n",
    "    c22 = suma(c22,m6)\n",
    "\n",
    "    c11 = np.c_[c11,c12]\n",
    "    c21 = np.c_[c21,c22]\n",
    "    c11 = np.r_[c11,c21]\n",
    "    if bandera==1:\n",
    "        ta=len(c11)\n",
    "        c11 = c11[:ta-1,:ta-1]\n",
    "    return c11"
   ]
  },
  {
   "cell_type": "code",
   "execution_count": 23,
   "metadata": {
    "collapsed": false
   },
   "outputs": [
    {
     "name": "stdout",
     "output_type": "stream",
     "text": [
      "[[ 2424.  1768.   578.]\n",
      " [ 3789.  3069.   932.]\n",
      " [ 2024.   736.   580.]]\n"
     ]
    }
   ],
   "source": [
    "x = 3\n",
    "matriz1 = np.random.randint(0,50,(x,x))\n",
    "matriz2 = np.random.randint(0,50,(x,x))\n",
    "print mult3(matriz1,matriz2)"
   ]
  },
  {
   "cell_type": "code",
   "execution_count": 24,
   "metadata": {
    "collapsed": false
   },
   "outputs": [],
   "source": [
    "def cont_mult3(matrixA, matrixB,acct):\n",
    "    bandera=0;acct.count()\n",
    "    if (len(matrixA) <= 2):\n",
    "        acct.count()\n",
    "        return cont_mult1(matrixA,matrixB, len(matrixA),acct)\n",
    "    else :\n",
    "        acct.count()\n",
    "        tama=len(matrixA);acct.count()\n",
    "        if(tama%2!=0):\n",
    "            acct.count()\n",
    "            m = np.zeros((tama, 1));acct.count()\n",
    "            n = np.zeros((1, tama+1));acct.count()\n",
    "            matrixA = np.c_[matrixA,m];acct.count()\n",
    "            matrixA = np.r_[matrixA,n];acct.count()\n",
    "            matrixB = np.c_[matrixB,m];acct.count()\n",
    "            matrixB = np.r_[matrixB,n];acct.count()\n",
    "            tama=tama+1    ;acct.count()\n",
    "            bandera=1 ;acct.count()\n",
    "        tama= (tama)/2;acct.count()\n",
    "        a11=matrixA[:tama,:tama];acct.count()\n",
    "        a12=matrixA[:tama,tama:];acct.count()\n",
    "        a21=matrixA[tama:,:tama];acct.count()\n",
    "        a22=matrixA[tama:,tama:];acct.count()\n",
    "        b11=matrixB[:tama,:tama];acct.count()\n",
    "        b12=matrixB[:tama,tama:];acct.count()\n",
    "        b21=matrixB[tama:,:tama];acct.count()\n",
    "        b22=matrixB[tama:,tama:];acct.count()\n",
    "        \n",
    "    m1a = cont_suma(a11,a22,acct);acct.count()\n",
    "    m1b = cont_suma(b11,b22,acct);acct.count()\n",
    "    m1  = cont_mult3(m1a,m1b,acct);acct.count()\n",
    "    m2a = cont_suma(a21,a22,acct);acct.count()\n",
    "    m2  = cont_mult3(m2a,b11,acct);acct.count()\n",
    "    m3a = cont_resta(b12,b22,acct);acct.count()\n",
    "    m3  = cont_mult3(a11,m3a,acct);acct.count()\n",
    "    m4a = cont_resta(b21,b11,acct);acct.count()\n",
    "    m4  = cont_mult3(a22,m4a,acct);acct.count()\n",
    "    m5a = cont_suma(a11,a12,acct);acct.count()\n",
    "    m5 = cont_mult3(m5a,b22,acct);acct.count()\n",
    "    m6a = cont_resta(a21,a11,acct);acct.count()\n",
    "    m6b = cont_suma(b11,b12,acct);acct.count()\n",
    "    m6 = cont_mult3(m6a,m6b,acct);acct.count()\n",
    "    m7a = cont_resta(a12,a22,acct);acct.count()\n",
    "    m7b = cont_suma(b21,b22,acct);acct.count()\n",
    "    m7 = cont_mult3(m7a,m7b,acct);acct.count()\n",
    "\n",
    "    c11 = cont_suma(m1,m4,acct);acct.count()\n",
    "    c11 = cont_resta(c11,m5,acct);acct.count()\n",
    "    c11 = cont_suma(c11,m7,acct);acct.count()\n",
    "    c12 = cont_suma(m3,m5,acct);acct.count()\n",
    "    c21 = cont_suma(m2,m4,acct);acct.count()\n",
    "    c22 = cont_resta(m1,m2,acct);acct.count()\n",
    "    c22 = cont_suma(c22,m3,acct);acct.count()\n",
    "    c22 = cont_suma(c22,m6,acct);acct.count()\n",
    "\n",
    "    c11 = np.c_[c11,c12];acct.count()\n",
    "    c21 = np.c_[c21,c22];acct.count()\n",
    "    c11 = np.r_[c11,c21];acct.count()\n",
    "    if bandera==1:\n",
    "        acct.count()\n",
    "        ta=len(c11);acct.count()\n",
    "        c11 = c11[:ta-1,:ta-1];acct.count()\n",
    "    return c11"
   ]
  },
  {
   "cell_type": "code",
   "execution_count": 34,
   "metadata": {
    "collapsed": false
   },
   "outputs": [
    {
     "name": "stdout",
     "output_type": "stream",
     "text": [
      "Number of steps = 502402025\n"
     ]
    }
   ],
   "source": [
    "x = 300\n",
    "matriz1 = np.random.randint(0,50,(x,x))\n",
    "matriz2 = np.random.randint(0,50,(x,x))\n",
    "acct = Counter()\n",
    "cont_mult3(matriz1,matriz2,acct)\n",
    "acct.print_steps()"
   ]
  },
  {
   "cell_type": "code",
   "execution_count": 26,
   "metadata": {
    "collapsed": true
   },
   "outputs": [],
   "source": [
    "def exper_analysis3(n):\n",
    "    results = []\n",
    "    acct = Counter()\n",
    "    for i in range(n):\n",
    "        matriz1 = np.random.randint(0,50,(i,i))\n",
    "        matriz2 = np.random.randint(0,50,(i,i))\n",
    "        acct.reset()\n",
    "        cont_mult3(matriz1,matriz2,acct)\n",
    "        results.append(acct.steps)\n",
    "    return results"
   ]
  },
  {
   "cell_type": "code",
   "execution_count": 27,
   "metadata": {
    "collapsed": false
   },
   "outputs": [
    {
     "name": "stdout",
     "output_type": "stream",
     "text": [
      "[3, 8, 33, 499, 487, 3959, 3947, 4145, 4133, 28791, 28779, 29121, 29109, 30993, 30981]\n"
     ]
    }
   ],
   "source": [
    "print exper_analysis3(15)"
   ]
  },
  {
   "cell_type": "code",
   "execution_count": 36,
   "metadata": {
    "collapsed": false
   },
   "outputs": [
    {
     "name": "stdout",
     "output_type": "stream",
     "text": [
      "[1, 6, 31, 94, 213, 406, 691, 1086, 1609, 2278, 3111, 4126, 5341, 6774, 8443, 10366, 12561, 15046, 17839, 20958, 24421, 28246, 32451, 37054, 42073, 47526, 53431, 59806, 66669, 74038, 81931, 90366, 99361, 108934, 119103, 129886, 141301, 153366, 166099, 179518, 193641, 208486, 224071, 240414, 257533, 275446, 294171, 313726, 334129, 355398, 377551, 400606, 424581, 449494, 475363, 502206, 530041, 558886, 588759, 619678, 651661, 684726, 718891, 754174, 790593, 828166, 866911, 906846, 947989, 990358, 1033971, 1078846, 1125001, 1172454, 1221223, 1271326, 1322781, 1375606, 1429819, 1485438, 1542481, 1600966, 1660911, 1722334, 1785253, 1849686, 1915651, 1983166, 2052249, 2122918, 2195191, 2269086, 2344621, 2421814, 2500683, 2581246, 2663521, 2747526, 2833279, 2920798, 3010101, 3101206, 3194131, 3288894, 3385513, 3484006, 3584391, 3686686, 3790909, 3897078, 4005211, 4115326, 4227441, 4341574, 4457743, 4575966, 4696261, 4818646, 4943139, 5069758, 5198521, 5329446, 5462551, 5597854, 5735373, 5875126, 6017131, 6161406, 6307969, 6456838, 6608031, 6761566, 6917461, 7075734, 7236403, 7399486, 7565001, 7732966, 7903399, 8076318, 8251741, 8429686, 8610171, 8793214, 8978833, 9167046, 9357871, 9551326, 9747429, 9946198]\n"
     ]
    },
    {
     "data": {
      "text/plain": [
       "[<matplotlib.lines.Line2D at 0x9a9e320>]"
      ]
     },
     "execution_count": 36,
     "metadata": {},
     "output_type": "execute_result"
    },
    {
     "data": {
      "image/png": "[encoded data removed]",
      "text/plain": [
       "<matplotlib.figure.Figure at 0x88c9278>"
      ]
     },
     "metadata": {},
     "output_type": "display_data"
    }
   ],
   "source": [
    "pl.clf()\n",
    "x = np.arange(150)\n",
    "y = np.array(exper_analysis(150))\n",
    "pl.plot(x, y, 'k.',color='red')  #De color rojo es el primer algorítmos\n",
    "y = np.array(exper_analysis2(150))\n",
    "pl.plot(x, y, 'k.',color='green') #En verde está divide y venceras\n",
    "y = np.array(exper_analysis3(150))\n",
    "pl.plot(x, y, 'k.',color='blue') #En azul está el algoritmo de Strassen"
   ]
  },
  {
   "cell_type": "code",
   "execution_count": null,
   "metadata": {
    "collapsed": true
   },
   "outputs": [],
   "source": []
  }
 ],
 "metadata": {
  "anaconda-cloud": {},
  "kernelspec": {
   "display_name": "Python [conda root]",
   "language": "python",
   "name": "conda-root-py"
  },
  "language_info": {
   "codemirror_mode": {
    "name": "ipython",
    "version": 2
   },
   "file_extension": ".py",
   "mimetype": "text/x-python",
   "name": "python",
   "nbconvert_exporter": "python",
   "pygments_lexer": "ipython2",
   "version": "2.7.12"
  }
 },
 "nbformat": 4,
 "nbformat_minor": 1
}
